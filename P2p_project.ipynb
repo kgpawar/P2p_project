{
  "nbformat": 4,
  "nbformat_minor": 0,
  "metadata": {
    "colab": {
      "provenance": [],
      "authorship_tag": "ABX9TyMvDWt2HoDA12PZ5EH4xWwm",
      "include_colab_link": true
    },
    "kernelspec": {
      "name": "python3",
      "display_name": "Python 3"
    },
    "language_info": {
      "name": "python"
    }
  },
  "cells": [
    {
      "cell_type": "markdown",
      "metadata": {
        "id": "view-in-github",
        "colab_type": "text"
      },
      "source": [
        "<a href=\"https://colab.research.google.com/github/kgpawar/P2p_project/blob/main/P2p_project.ipynb\" target=\"_parent\"><img src=\"https://colab.research.google.com/assets/colab-badge.svg\" alt=\"Open In Colab\"/></a>"
      ]
    },
    {
      "cell_type": "code",
      "execution_count": 2,
      "metadata": {
        "id": "3t4WvAfctm8B"
      },
      "outputs": [],
      "source": [
        "import numpy as np\n",
        "import pandas as pd\n",
        "import matplotlib.pyplot as plt\n",
        "%matplotlib inline\n",
        "import seaborn as sns"
      ]
    },
    {
      "cell_type": "code",
      "source": [
        "#Skip first row\n",
        "p2p = pd.read_csv(\"/content/sample_data/lending_club_loans.csv\",skiprows=1)"
      ],
      "metadata": {
        "colab": {
          "base_uri": "https://localhost:8080/"
        },
        "id": "RKXNE6nnvCog",
        "outputId": "1f32bc10-337a-4416-fd91-6edbe641d21b"
      },
      "execution_count": 5,
      "outputs": [
        {
          "output_type": "stream",
          "name": "stderr",
          "text": [
            "/usr/local/lib/python3.8/dist-packages/IPython/core/interactiveshell.py:3326: DtypeWarning: Columns (0,49) have mixed types.Specify dtype option on import or set low_memory=False.\n",
            "  exec(code_obj, self.user_global_ns, self.user_ns)\n"
          ]
        }
      ]
    },
    {
      "cell_type": "code",
      "source": [
        "p2p"
      ],
      "metadata": {
        "colab": {
          "base_uri": "https://localhost:8080/",
          "height": 783
        },
        "id": "ts8QhgIJvSdy",
        "outputId": "21026e07-b479-494a-b06c-31d2f24e82f8"
      },
      "execution_count": 6,
      "outputs": [
        {
          "output_type": "execute_result",
          "data": {
            "text/plain": [
              "                                                    id  member_id  loan_amnt  \\\n",
              "0                                              1077501  1296599.0     5000.0   \n",
              "1                                              1077430  1314167.0     2500.0   \n",
              "2                                              1077175  1313524.0     2400.0   \n",
              "3                                              1076863  1277178.0    10000.0   \n",
              "4                                              1075358  1311748.0     3000.0   \n",
              "...                                                ...        ...        ...   \n",
              "42533                                            72176    70868.0     2525.0   \n",
              "42534                                            71623    70735.0     6500.0   \n",
              "42535                                            70686    70681.0     5000.0   \n",
              "42536  Total amount funded in policy code 1: 460296150        NaN        NaN   \n",
              "42537          Total amount funded in policy code 2: 0        NaN        NaN   \n",
              "\n",
              "       funded_amnt  funded_amnt_inv        term int_rate  installment grade  \\\n",
              "0           5000.0           4975.0   36 months   10.65%       162.87     B   \n",
              "1           2500.0           2500.0   60 months   15.27%        59.83     C   \n",
              "2           2400.0           2400.0   36 months   15.96%        84.33     C   \n",
              "3          10000.0          10000.0   36 months   13.49%       339.31     C   \n",
              "4           3000.0           3000.0   60 months   12.69%        67.79     B   \n",
              "...            ...              ...         ...      ...          ...   ...   \n",
              "42533       2525.0            225.0   36 months    9.33%        80.69     B   \n",
              "42534       6500.0              0.0   36 months    8.38%       204.84     A   \n",
              "42535       5000.0              0.0   36 months    7.75%       156.11     A   \n",
              "42536          NaN              NaN         NaN      NaN          NaN   NaN   \n",
              "42537          NaN              NaN         NaN      NaN          NaN   NaN   \n",
              "\n",
              "      sub_grade  ... num_tl_90g_dpd_24m num_tl_op_past_12m pct_tl_nvr_dlq  \\\n",
              "0            B2  ...                NaN                NaN            NaN   \n",
              "1            C4  ...                NaN                NaN            NaN   \n",
              "2            C5  ...                NaN                NaN            NaN   \n",
              "3            C1  ...                NaN                NaN            NaN   \n",
              "4            B5  ...                NaN                NaN            NaN   \n",
              "...         ...  ...                ...                ...            ...   \n",
              "42533        B3  ...                NaN                NaN            NaN   \n",
              "42534        A5  ...                NaN                NaN            NaN   \n",
              "42535        A3  ...                NaN                NaN            NaN   \n",
              "42536       NaN  ...                NaN                NaN            NaN   \n",
              "42537       NaN  ...                NaN                NaN            NaN   \n",
              "\n",
              "       percent_bc_gt_75 pub_rec_bankruptcies tax_liens tot_hi_cred_lim  \\\n",
              "0                   NaN                  0.0       0.0             NaN   \n",
              "1                   NaN                  0.0       0.0             NaN   \n",
              "2                   NaN                  0.0       0.0             NaN   \n",
              "3                   NaN                  0.0       0.0             NaN   \n",
              "4                   NaN                  0.0       0.0             NaN   \n",
              "...                 ...                  ...       ...             ...   \n",
              "42533               NaN                  NaN       NaN             NaN   \n",
              "42534               NaN                  NaN       NaN             NaN   \n",
              "42535               NaN                  NaN       NaN             NaN   \n",
              "42536               NaN                  NaN       NaN             NaN   \n",
              "42537               NaN                  NaN       NaN             NaN   \n",
              "\n",
              "      total_bal_ex_mort total_bc_limit total_il_high_credit_limit  \n",
              "0                   NaN            NaN                        NaN  \n",
              "1                   NaN            NaN                        NaN  \n",
              "2                   NaN            NaN                        NaN  \n",
              "3                   NaN            NaN                        NaN  \n",
              "4                   NaN            NaN                        NaN  \n",
              "...                 ...            ...                        ...  \n",
              "42533               NaN            NaN                        NaN  \n",
              "42534               NaN            NaN                        NaN  \n",
              "42535               NaN            NaN                        NaN  \n",
              "42536               NaN            NaN                        NaN  \n",
              "42537               NaN            NaN                        NaN  \n",
              "\n",
              "[42538 rows x 115 columns]"
            ],
            "text/html": [
              "\n",
              "  <div id=\"df-aea2c22b-f5a7-408d-ac23-6ac9133b1b5a\">\n",
              "    <div class=\"colab-df-container\">\n",
              "      <div>\n",
              "<style scoped>\n",
              "    .dataframe tbody tr th:only-of-type {\n",
              "        vertical-align: middle;\n",
              "    }\n",
              "\n",
              "    .dataframe tbody tr th {\n",
              "        vertical-align: top;\n",
              "    }\n",
              "\n",
              "    .dataframe thead th {\n",
              "        text-align: right;\n",
              "    }\n",
              "</style>\n",
              "<table border=\"1\" class=\"dataframe\">\n",
              "  <thead>\n",
              "    <tr style=\"text-align: right;\">\n",
              "      <th></th>\n",
              "      <th>id</th>\n",
              "      <th>member_id</th>\n",
              "      <th>loan_amnt</th>\n",
              "      <th>funded_amnt</th>\n",
              "      <th>funded_amnt_inv</th>\n",
              "      <th>term</th>\n",
              "      <th>int_rate</th>\n",
              "      <th>installment</th>\n",
              "      <th>grade</th>\n",
              "      <th>sub_grade</th>\n",
              "      <th>...</th>\n",
              "      <th>num_tl_90g_dpd_24m</th>\n",
              "      <th>num_tl_op_past_12m</th>\n",
              "      <th>pct_tl_nvr_dlq</th>\n",
              "      <th>percent_bc_gt_75</th>\n",
              "      <th>pub_rec_bankruptcies</th>\n",
              "      <th>tax_liens</th>\n",
              "      <th>tot_hi_cred_lim</th>\n",
              "      <th>total_bal_ex_mort</th>\n",
              "      <th>total_bc_limit</th>\n",
              "      <th>total_il_high_credit_limit</th>\n",
              "    </tr>\n",
              "  </thead>\n",
              "  <tbody>\n",
              "    <tr>\n",
              "      <th>0</th>\n",
              "      <td>1077501</td>\n",
              "      <td>1296599.0</td>\n",
              "      <td>5000.0</td>\n",
              "      <td>5000.0</td>\n",
              "      <td>4975.0</td>\n",
              "      <td>36 months</td>\n",
              "      <td>10.65%</td>\n",
              "      <td>162.87</td>\n",
              "      <td>B</td>\n",
              "      <td>B2</td>\n",
              "      <td>...</td>\n",
              "      <td>NaN</td>\n",
              "      <td>NaN</td>\n",
              "      <td>NaN</td>\n",
              "      <td>NaN</td>\n",
              "      <td>0.0</td>\n",
              "      <td>0.0</td>\n",
              "      <td>NaN</td>\n",
              "      <td>NaN</td>\n",
              "      <td>NaN</td>\n",
              "      <td>NaN</td>\n",
              "    </tr>\n",
              "    <tr>\n",
              "      <th>1</th>\n",
              "      <td>1077430</td>\n",
              "      <td>1314167.0</td>\n",
              "      <td>2500.0</td>\n",
              "      <td>2500.0</td>\n",
              "      <td>2500.0</td>\n",
              "      <td>60 months</td>\n",
              "      <td>15.27%</td>\n",
              "      <td>59.83</td>\n",
              "      <td>C</td>\n",
              "      <td>C4</td>\n",
              "      <td>...</td>\n",
              "      <td>NaN</td>\n",
              "      <td>NaN</td>\n",
              "      <td>NaN</td>\n",
              "      <td>NaN</td>\n",
              "      <td>0.0</td>\n",
              "      <td>0.0</td>\n",
              "      <td>NaN</td>\n",
              "      <td>NaN</td>\n",
              "      <td>NaN</td>\n",
              "      <td>NaN</td>\n",
              "    </tr>\n",
              "    <tr>\n",
              "      <th>2</th>\n",
              "      <td>1077175</td>\n",
              "      <td>1313524.0</td>\n",
              "      <td>2400.0</td>\n",
              "      <td>2400.0</td>\n",
              "      <td>2400.0</td>\n",
              "      <td>36 months</td>\n",
              "      <td>15.96%</td>\n",
              "      <td>84.33</td>\n",
              "      <td>C</td>\n",
              "      <td>C5</td>\n",
              "      <td>...</td>\n",
              "      <td>NaN</td>\n",
              "      <td>NaN</td>\n",
              "      <td>NaN</td>\n",
              "      <td>NaN</td>\n",
              "      <td>0.0</td>\n",
              "      <td>0.0</td>\n",
              "      <td>NaN</td>\n",
              "      <td>NaN</td>\n",
              "      <td>NaN</td>\n",
              "      <td>NaN</td>\n",
              "    </tr>\n",
              "    <tr>\n",
              "      <th>3</th>\n",
              "      <td>1076863</td>\n",
              "      <td>1277178.0</td>\n",
              "      <td>10000.0</td>\n",
              "      <td>10000.0</td>\n",
              "      <td>10000.0</td>\n",
              "      <td>36 months</td>\n",
              "      <td>13.49%</td>\n",
              "      <td>339.31</td>\n",
              "      <td>C</td>\n",
              "      <td>C1</td>\n",
              "      <td>...</td>\n",
              "      <td>NaN</td>\n",
              "      <td>NaN</td>\n",
              "      <td>NaN</td>\n",
              "      <td>NaN</td>\n",
              "      <td>0.0</td>\n",
              "      <td>0.0</td>\n",
              "      <td>NaN</td>\n",
              "      <td>NaN</td>\n",
              "      <td>NaN</td>\n",
              "      <td>NaN</td>\n",
              "    </tr>\n",
              "    <tr>\n",
              "      <th>4</th>\n",
              "      <td>1075358</td>\n",
              "      <td>1311748.0</td>\n",
              "      <td>3000.0</td>\n",
              "      <td>3000.0</td>\n",
              "      <td>3000.0</td>\n",
              "      <td>60 months</td>\n",
              "      <td>12.69%</td>\n",
              "      <td>67.79</td>\n",
              "      <td>B</td>\n",
              "      <td>B5</td>\n",
              "      <td>...</td>\n",
              "      <td>NaN</td>\n",
              "      <td>NaN</td>\n",
              "      <td>NaN</td>\n",
              "      <td>NaN</td>\n",
              "      <td>0.0</td>\n",
              "      <td>0.0</td>\n",
              "      <td>NaN</td>\n",
              "      <td>NaN</td>\n",
              "      <td>NaN</td>\n",
              "      <td>NaN</td>\n",
              "    </tr>\n",
              "    <tr>\n",
              "      <th>...</th>\n",
              "      <td>...</td>\n",
              "      <td>...</td>\n",
              "      <td>...</td>\n",
              "      <td>...</td>\n",
              "      <td>...</td>\n",
              "      <td>...</td>\n",
              "      <td>...</td>\n",
              "      <td>...</td>\n",
              "      <td>...</td>\n",
              "      <td>...</td>\n",
              "      <td>...</td>\n",
              "      <td>...</td>\n",
              "      <td>...</td>\n",
              "      <td>...</td>\n",
              "      <td>...</td>\n",
              "      <td>...</td>\n",
              "      <td>...</td>\n",
              "      <td>...</td>\n",
              "      <td>...</td>\n",
              "      <td>...</td>\n",
              "      <td>...</td>\n",
              "    </tr>\n",
              "    <tr>\n",
              "      <th>42533</th>\n",
              "      <td>72176</td>\n",
              "      <td>70868.0</td>\n",
              "      <td>2525.0</td>\n",
              "      <td>2525.0</td>\n",
              "      <td>225.0</td>\n",
              "      <td>36 months</td>\n",
              "      <td>9.33%</td>\n",
              "      <td>80.69</td>\n",
              "      <td>B</td>\n",
              "      <td>B3</td>\n",
              "      <td>...</td>\n",
              "      <td>NaN</td>\n",
              "      <td>NaN</td>\n",
              "      <td>NaN</td>\n",
              "      <td>NaN</td>\n",
              "      <td>NaN</td>\n",
              "      <td>NaN</td>\n",
              "      <td>NaN</td>\n",
              "      <td>NaN</td>\n",
              "      <td>NaN</td>\n",
              "      <td>NaN</td>\n",
              "    </tr>\n",
              "    <tr>\n",
              "      <th>42534</th>\n",
              "      <td>71623</td>\n",
              "      <td>70735.0</td>\n",
              "      <td>6500.0</td>\n",
              "      <td>6500.0</td>\n",
              "      <td>0.0</td>\n",
              "      <td>36 months</td>\n",
              "      <td>8.38%</td>\n",
              "      <td>204.84</td>\n",
              "      <td>A</td>\n",
              "      <td>A5</td>\n",
              "      <td>...</td>\n",
              "      <td>NaN</td>\n",
              "      <td>NaN</td>\n",
              "      <td>NaN</td>\n",
              "      <td>NaN</td>\n",
              "      <td>NaN</td>\n",
              "      <td>NaN</td>\n",
              "      <td>NaN</td>\n",
              "      <td>NaN</td>\n",
              "      <td>NaN</td>\n",
              "      <td>NaN</td>\n",
              "    </tr>\n",
              "    <tr>\n",
              "      <th>42535</th>\n",
              "      <td>70686</td>\n",
              "      <td>70681.0</td>\n",
              "      <td>5000.0</td>\n",
              "      <td>5000.0</td>\n",
              "      <td>0.0</td>\n",
              "      <td>36 months</td>\n",
              "      <td>7.75%</td>\n",
              "      <td>156.11</td>\n",
              "      <td>A</td>\n",
              "      <td>A3</td>\n",
              "      <td>...</td>\n",
              "      <td>NaN</td>\n",
              "      <td>NaN</td>\n",
              "      <td>NaN</td>\n",
              "      <td>NaN</td>\n",
              "      <td>NaN</td>\n",
              "      <td>NaN</td>\n",
              "      <td>NaN</td>\n",
              "      <td>NaN</td>\n",
              "      <td>NaN</td>\n",
              "      <td>NaN</td>\n",
              "    </tr>\n",
              "    <tr>\n",
              "      <th>42536</th>\n",
              "      <td>Total amount funded in policy code 1: 460296150</td>\n",
              "      <td>NaN</td>\n",
              "      <td>NaN</td>\n",
              "      <td>NaN</td>\n",
              "      <td>NaN</td>\n",
              "      <td>NaN</td>\n",
              "      <td>NaN</td>\n",
              "      <td>NaN</td>\n",
              "      <td>NaN</td>\n",
              "      <td>NaN</td>\n",
              "      <td>...</td>\n",
              "      <td>NaN</td>\n",
              "      <td>NaN</td>\n",
              "      <td>NaN</td>\n",
              "      <td>NaN</td>\n",
              "      <td>NaN</td>\n",
              "      <td>NaN</td>\n",
              "      <td>NaN</td>\n",
              "      <td>NaN</td>\n",
              "      <td>NaN</td>\n",
              "      <td>NaN</td>\n",
              "    </tr>\n",
              "    <tr>\n",
              "      <th>42537</th>\n",
              "      <td>Total amount funded in policy code 2: 0</td>\n",
              "      <td>NaN</td>\n",
              "      <td>NaN</td>\n",
              "      <td>NaN</td>\n",
              "      <td>NaN</td>\n",
              "      <td>NaN</td>\n",
              "      <td>NaN</td>\n",
              "      <td>NaN</td>\n",
              "      <td>NaN</td>\n",
              "      <td>NaN</td>\n",
              "      <td>...</td>\n",
              "      <td>NaN</td>\n",
              "      <td>NaN</td>\n",
              "      <td>NaN</td>\n",
              "      <td>NaN</td>\n",
              "      <td>NaN</td>\n",
              "      <td>NaN</td>\n",
              "      <td>NaN</td>\n",
              "      <td>NaN</td>\n",
              "      <td>NaN</td>\n",
              "      <td>NaN</td>\n",
              "    </tr>\n",
              "  </tbody>\n",
              "</table>\n",
              "<p>42538 rows × 115 columns</p>\n",
              "</div>\n",
              "      <button class=\"colab-df-convert\" onclick=\"convertToInteractive('df-aea2c22b-f5a7-408d-ac23-6ac9133b1b5a')\"\n",
              "              title=\"Convert this dataframe to an interactive table.\"\n",
              "              style=\"display:none;\">\n",
              "        \n",
              "  <svg xmlns=\"http://www.w3.org/2000/svg\" height=\"24px\"viewBox=\"0 0 24 24\"\n",
              "       width=\"24px\">\n",
              "    <path d=\"M0 0h24v24H0V0z\" fill=\"none\"/>\n",
              "    <path d=\"M18.56 5.44l.94 2.06.94-2.06 2.06-.94-2.06-.94-.94-2.06-.94 2.06-2.06.94zm-11 1L8.5 8.5l.94-2.06 2.06-.94-2.06-.94L8.5 2.5l-.94 2.06-2.06.94zm10 10l.94 2.06.94-2.06 2.06-.94-2.06-.94-.94-2.06-.94 2.06-2.06.94z\"/><path d=\"M17.41 7.96l-1.37-1.37c-.4-.4-.92-.59-1.43-.59-.52 0-1.04.2-1.43.59L10.3 9.45l-7.72 7.72c-.78.78-.78 2.05 0 2.83L4 21.41c.39.39.9.59 1.41.59.51 0 1.02-.2 1.41-.59l7.78-7.78 2.81-2.81c.8-.78.8-2.07 0-2.86zM5.41 20L4 18.59l7.72-7.72 1.47 1.35L5.41 20z\"/>\n",
              "  </svg>\n",
              "      </button>\n",
              "      \n",
              "  <style>\n",
              "    .colab-df-container {\n",
              "      display:flex;\n",
              "      flex-wrap:wrap;\n",
              "      gap: 12px;\n",
              "    }\n",
              "\n",
              "    .colab-df-convert {\n",
              "      background-color: #E8F0FE;\n",
              "      border: none;\n",
              "      border-radius: 50%;\n",
              "      cursor: pointer;\n",
              "      display: none;\n",
              "      fill: #1967D2;\n",
              "      height: 32px;\n",
              "      padding: 0 0 0 0;\n",
              "      width: 32px;\n",
              "    }\n",
              "\n",
              "    .colab-df-convert:hover {\n",
              "      background-color: #E2EBFA;\n",
              "      box-shadow: 0px 1px 2px rgba(60, 64, 67, 0.3), 0px 1px 3px 1px rgba(60, 64, 67, 0.15);\n",
              "      fill: #174EA6;\n",
              "    }\n",
              "\n",
              "    [theme=dark] .colab-df-convert {\n",
              "      background-color: #3B4455;\n",
              "      fill: #D2E3FC;\n",
              "    }\n",
              "\n",
              "    [theme=dark] .colab-df-convert:hover {\n",
              "      background-color: #434B5C;\n",
              "      box-shadow: 0px 1px 3px 1px rgba(0, 0, 0, 0.15);\n",
              "      filter: drop-shadow(0px 1px 2px rgba(0, 0, 0, 0.3));\n",
              "      fill: #FFFFFF;\n",
              "    }\n",
              "  </style>\n",
              "\n",
              "      <script>\n",
              "        const buttonEl =\n",
              "          document.querySelector('#df-aea2c22b-f5a7-408d-ac23-6ac9133b1b5a button.colab-df-convert');\n",
              "        buttonEl.style.display =\n",
              "          google.colab.kernel.accessAllowed ? 'block' : 'none';\n",
              "\n",
              "        async function convertToInteractive(key) {\n",
              "          const element = document.querySelector('#df-aea2c22b-f5a7-408d-ac23-6ac9133b1b5a');\n",
              "          const dataTable =\n",
              "            await google.colab.kernel.invokeFunction('convertToInteractive',\n",
              "                                                     [key], {});\n",
              "          if (!dataTable) return;\n",
              "\n",
              "          const docLinkHtml = 'Like what you see? Visit the ' +\n",
              "            '<a target=\"_blank\" href=https://colab.research.google.com/notebooks/data_table.ipynb>data table notebook</a>'\n",
              "            + ' to learn more about interactive tables.';\n",
              "          element.innerHTML = '';\n",
              "          dataTable['output_type'] = 'display_data';\n",
              "          await google.colab.output.renderOutput(dataTable, element);\n",
              "          const docLink = document.createElement('div');\n",
              "          docLink.innerHTML = docLinkHtml;\n",
              "          element.appendChild(docLink);\n",
              "        }\n",
              "      </script>\n",
              "    </div>\n",
              "  </div>\n",
              "  "
            ]
          },
          "metadata": {},
          "execution_count": 6
        }
      ]
    },
    {
      "cell_type": "code",
      "source": [
        "#Removing columns which having all empty values\n",
        "p2p.dropna(how='all', axis=1, inplace=True)\n",
        "len(p2p.columns)"
      ],
      "metadata": {
        "colab": {
          "base_uri": "https://localhost:8080/"
        },
        "id": "y5ZOd6UrvjIm",
        "outputId": "bbf25529-113d-4cb4-99b8-cd751610e92c"
      },
      "execution_count": 7,
      "outputs": [
        {
          "output_type": "execute_result",
          "data": {
            "text/plain": [
              "61"
            ]
          },
          "metadata": {},
          "execution_count": 7
        }
      ]
    },
    {
      "cell_type": "code",
      "source": [
        "#Removing columns which having 50% empty values\n",
        "thresh = len(p2p) * .5\n",
        "p2p.dropna(thresh = thresh, axis = 1, inplace = True)\n",
        "print(len(p2p.columns))\n",
        "p2p.columns"
      ],
      "metadata": {
        "colab": {
          "base_uri": "https://localhost:8080/"
        },
        "id": "xF87AKuSvmky",
        "outputId": "43f60c03-5374-4e95-9e12-ef0db97cf0ee"
      },
      "execution_count": 8,
      "outputs": [
        {
          "output_type": "stream",
          "name": "stdout",
          "text": [
            "58\n"
          ]
        },
        {
          "output_type": "execute_result",
          "data": {
            "text/plain": [
              "Index(['id', 'member_id', 'loan_amnt', 'funded_amnt', 'funded_amnt_inv',\n",
              "       'term', 'int_rate', 'installment', 'grade', 'sub_grade', 'emp_title',\n",
              "       'emp_length', 'home_ownership', 'annual_inc', 'verification_status',\n",
              "       'issue_d', 'loan_status', 'pymnt_plan', 'url', 'desc', 'purpose',\n",
              "       'title', 'zip_code', 'addr_state', 'dti', 'delinq_2yrs',\n",
              "       'earliest_cr_line', 'fico_range_low', 'fico_range_high',\n",
              "       'inq_last_6mths', 'open_acc', 'pub_rec', 'revol_bal', 'revol_util',\n",
              "       'total_acc', 'initial_list_status', 'out_prncp', 'out_prncp_inv',\n",
              "       'total_pymnt', 'total_pymnt_inv', 'total_rec_prncp', 'total_rec_int',\n",
              "       'total_rec_late_fee', 'recoveries', 'collection_recovery_fee',\n",
              "       'last_pymnt_d', 'last_pymnt_amnt', 'last_credit_pull_d',\n",
              "       'last_fico_range_high', 'last_fico_range_low',\n",
              "       'collections_12_mths_ex_med', 'policy_code', 'application_type',\n",
              "       'acc_now_delinq', 'chargeoff_within_12_mths', 'delinq_amnt',\n",
              "       'pub_rec_bankruptcies', 'tax_liens'],\n",
              "      dtype='object')"
            ]
          },
          "metadata": {},
          "execution_count": 8
        }
      ]
    },
    {
      "cell_type": "code",
      "source": [
        "p2p.dropna(thresh=29,axis=0,inplace=True)\n",
        "len(p2p)"
      ],
      "metadata": {
        "colab": {
          "base_uri": "https://localhost:8080/"
        },
        "id": "Kycmv6Tkvp0f",
        "outputId": "75ebffce-946e-4813-f097-c9c38683a7c8"
      },
      "execution_count": 9,
      "outputs": [
        {
          "output_type": "execute_result",
          "data": {
            "text/plain": [
              "42535"
            ]
          },
          "metadata": {},
          "execution_count": 9
        }
      ]
    },
    {
      "cell_type": "code",
      "source": [
        "for col in p2p.columns:  # Loop through columns\n",
        "  if len(p2p[col].unique()) == 1:  # Find unique values in column along with their length and if len is == 1 then it contains same values\n",
        "    print(col)\n",
        "    p2p.drop([col], axis=1, inplace=True)  # Drop the column\n",
        "len(p2p.columns)"
      ],
      "metadata": {
        "colab": {
          "base_uri": "https://localhost:8080/"
        },
        "id": "dm6pkHfqvtxo",
        "outputId": "4e60e043-c62e-45f0-b536-d172040a7e92"
      },
      "execution_count": 10,
      "outputs": [
        {
          "output_type": "stream",
          "name": "stdout",
          "text": [
            "initial_list_status\n",
            "policy_code\n",
            "application_type\n"
          ]
        },
        {
          "output_type": "execute_result",
          "data": {
            "text/plain": [
              "55"
            ]
          },
          "metadata": {},
          "execution_count": 10
        }
      ]
    },
    {
      "cell_type": "code",
      "source": [
        "# get all the columns we want to exam\n",
        "orig_columns = p2p.columns\n",
        "\n",
        "# create an empty list for the columns we want to drop\n",
        "drop_columns = []\n",
        "\n",
        "# write a for loop\n",
        "for col in orig_columns:\n",
        "\n",
        "    # select the columns that offers very little variability\n",
        "    if p2p[col].value_counts(normalize=True, dropna=False).values[0]>0.9:\n",
        "\n",
        "        # those columns won't have much predictive value. let's drop it.\n",
        "        drop_columns.append(col)\n",
        "print(drop_columns)\n",
        "# drop the columns\n",
        "p2p = p2p.drop(drop_columns, axis=1)\n",
        "\n",
        "# show what we dropped\n",
        "print('The columns that offers very little variability and need to be removed are: ', drop_columns)\n",
        "\n",
        "print('\\n')\n",
        "# check the result\n",
        "print('The number of rows and columns p2p data is: ',p2p.shape)"
      ],
      "metadata": {
        "colab": {
          "base_uri": "https://localhost:8080/"
        },
        "id": "Yd-CKTnjvxyL",
        "outputId": "6ba46bc8-5857-41ef-fe46-97bbc177d3a5"
      },
      "execution_count": 11,
      "outputs": [
        {
          "output_type": "stream",
          "name": "stdout",
          "text": [
            "['pymnt_plan', 'pub_rec', 'out_prncp', 'out_prncp_inv', 'total_rec_late_fee', 'collections_12_mths_ex_med', 'acc_now_delinq', 'chargeoff_within_12_mths', 'delinq_amnt', 'pub_rec_bankruptcies', 'tax_liens']\n",
            "The columns that offers very little variability and need to be removed are:  ['pymnt_plan', 'pub_rec', 'out_prncp', 'out_prncp_inv', 'total_rec_late_fee', 'collections_12_mths_ex_med', 'acc_now_delinq', 'chargeoff_within_12_mths', 'delinq_amnt', 'pub_rec_bankruptcies', 'tax_liens']\n",
            "\n",
            "\n",
            "The number of rows and columns p2p data is:  (42535, 44)\n"
          ]
        }
      ]
    },
    {
      "cell_type": "code",
      "source": [
        "list(p2p.columns)"
      ],
      "metadata": {
        "colab": {
          "base_uri": "https://localhost:8080/"
        },
        "id": "ijMhUrCvv1oL",
        "outputId": "d61a81f4-f86b-425e-f496-791f52976398"
      },
      "execution_count": 12,
      "outputs": [
        {
          "output_type": "execute_result",
          "data": {
            "text/plain": [
              "['id',\n",
              " 'member_id',\n",
              " 'loan_amnt',\n",
              " 'funded_amnt',\n",
              " 'funded_amnt_inv',\n",
              " 'term',\n",
              " 'int_rate',\n",
              " 'installment',\n",
              " 'grade',\n",
              " 'sub_grade',\n",
              " 'emp_title',\n",
              " 'emp_length',\n",
              " 'home_ownership',\n",
              " 'annual_inc',\n",
              " 'verification_status',\n",
              " 'issue_d',\n",
              " 'loan_status',\n",
              " 'url',\n",
              " 'desc',\n",
              " 'purpose',\n",
              " 'title',\n",
              " 'zip_code',\n",
              " 'addr_state',\n",
              " 'dti',\n",
              " 'delinq_2yrs',\n",
              " 'earliest_cr_line',\n",
              " 'fico_range_low',\n",
              " 'fico_range_high',\n",
              " 'inq_last_6mths',\n",
              " 'open_acc',\n",
              " 'revol_bal',\n",
              " 'revol_util',\n",
              " 'total_acc',\n",
              " 'total_pymnt',\n",
              " 'total_pymnt_inv',\n",
              " 'total_rec_prncp',\n",
              " 'total_rec_int',\n",
              " 'recoveries',\n",
              " 'collection_recovery_fee',\n",
              " 'last_pymnt_d',\n",
              " 'last_pymnt_amnt',\n",
              " 'last_credit_pull_d',\n",
              " 'last_fico_range_high',\n",
              " 'last_fico_range_low']"
            ]
          },
          "metadata": {},
          "execution_count": 12
        }
      ]
    },
    {
      "cell_type": "code",
      "source": [
        "# removing those columns which does not give valueable insights to build model\n",
        "\n",
        "\n",
        "p2p = p2p.drop(['id', 'member_id','int_rate','emp_title','url','desc','zip_code','sub_grade'], axis=1)\n",
        "\n",
        "# removing those columns which leaks data from the future\n",
        "\n",
        "p2p = p2p.drop(['funded_amnt','funded_amnt_inv','total_pymnt','total_pymnt_inv','total_rec_prncp','total_rec_int','recoveries','collection_recovery_fee','last_pymnt_d','last_pymnt_amnt'], axis=1)\n",
        "\n",
        "\n",
        "print(\"Total No of columns - \", len(p2p.columns))\n",
        "p2p.columns"
      ],
      "metadata": {
        "colab": {
          "base_uri": "https://localhost:8080/"
        },
        "id": "BSU3_j_sv8-V",
        "outputId": "8838cd40-ee5e-4482-d17f-70d5c5761454"
      },
      "execution_count": 13,
      "outputs": [
        {
          "output_type": "stream",
          "name": "stdout",
          "text": [
            "Total No of columns -  26\n"
          ]
        },
        {
          "output_type": "execute_result",
          "data": {
            "text/plain": [
              "Index(['loan_amnt', 'term', 'installment', 'grade', 'emp_length',\n",
              "       'home_ownership', 'annual_inc', 'verification_status', 'issue_d',\n",
              "       'loan_status', 'purpose', 'title', 'addr_state', 'dti', 'delinq_2yrs',\n",
              "       'earliest_cr_line', 'fico_range_low', 'fico_range_high',\n",
              "       'inq_last_6mths', 'open_acc', 'revol_bal', 'revol_util', 'total_acc',\n",
              "       'last_credit_pull_d', 'last_fico_range_high', 'last_fico_range_low'],\n",
              "      dtype='object')"
            ]
          },
          "metadata": {},
          "execution_count": 13
        }
      ]
    },
    {
      "cell_type": "code",
      "source": [
        "p2p.drop(['earliest_cr_line', 'last_credit_pull_d','issue_d'], axis=1, inplace=True)"
      ],
      "metadata": {
        "id": "cLGOsWEav_Kw"
      },
      "execution_count": 14,
      "outputs": []
    },
    {
      "cell_type": "code",
      "source": [
        "print(\"Total No of columns - \", len(p2p.columns))\n",
        "p2p.columns"
      ],
      "metadata": {
        "colab": {
          "base_uri": "https://localhost:8080/"
        },
        "id": "F00jTbTpwETv",
        "outputId": "81cd0d53-b685-4ff9-bd8b-d1dbd57386cf"
      },
      "execution_count": 15,
      "outputs": [
        {
          "output_type": "stream",
          "name": "stdout",
          "text": [
            "Total No of columns -  23\n"
          ]
        },
        {
          "output_type": "execute_result",
          "data": {
            "text/plain": [
              "Index(['loan_amnt', 'term', 'installment', 'grade', 'emp_length',\n",
              "       'home_ownership', 'annual_inc', 'verification_status', 'loan_status',\n",
              "       'purpose', 'title', 'addr_state', 'dti', 'delinq_2yrs',\n",
              "       'fico_range_low', 'fico_range_high', 'inq_last_6mths', 'open_acc',\n",
              "       'revol_bal', 'revol_util', 'total_acc', 'last_fico_range_high',\n",
              "       'last_fico_range_low'],\n",
              "      dtype='object')"
            ]
          },
          "metadata": {},
          "execution_count": 15
        }
      ]
    },
    {
      "cell_type": "code",
      "source": [
        "sns.set_style('whitegrid')\n",
        "ax=sns.countplot(x='loan_status',data=p2p, orient='v')\n",
        "\n",
        "plt.xticks(rotation=90)\n",
        "plt.legend(title=\"Loan_status\", loc=\"upper right\")\n",
        "plt.show"
      ],
      "metadata": {
        "colab": {
          "base_uri": "https://localhost:8080/",
          "height": 585
        },
        "id": "XPIK56vvwLoV",
        "outputId": "b522f733-586c-4220-be00-4fbff6edfc80"
      },
      "execution_count": 16,
      "outputs": [
        {
          "output_type": "stream",
          "name": "stderr",
          "text": [
            "WARNING:matplotlib.legend:No artists with labels found to put in legend.  Note that artists whose label start with an underscore are ignored when legend() is called with no argument.\n"
          ]
        },
        {
          "output_type": "execute_result",
          "data": {
            "text/plain": [
              "<function matplotlib.pyplot.show(close=None, block=None)>"
            ]
          },
          "metadata": {},
          "execution_count": 16
        },
        {
          "output_type": "display_data",
          "data": {
            "text/plain": [
              "<Figure size 432x288 with 1 Axes>"
            ],
            "image/png": "[encoded data removed]"
          },
          "metadata": {}
        }
      ]
    },
    {
      "cell_type": "code",
      "source": [
        "# Remove all rows that contain values other than Fully Paid or Charged Off for the loan_status column\n",
        "p2p = p2p.loc[p2p['loan_status'].isin(['Fully Paid', 'Charged Off'])]\n",
        "p2p.shape"
      ],
      "metadata": {
        "colab": {
          "base_uri": "https://localhost:8080/"
        },
        "id": "x857u4DDwNr-",
        "outputId": "f6b59dc5-e4d3-4506-cd38-d5fc6cb283e8"
      },
      "execution_count": 17,
      "outputs": [
        {
          "output_type": "execute_result",
          "data": {
            "text/plain": [
              "(39239, 23)"
            ]
          },
          "metadata": {},
          "execution_count": 17
        }
      ]
    },
    {
      "cell_type": "code",
      "source": [
        "#Let’s get rid of the missing values,\n",
        "print(sum(pd.isnull(p2p['fico_range_high'])))\n",
        "#As there are no null values let's proceed further\n",
        "\n",
        "#Let's take average of fico_range_low and fico_range_high\n",
        "p2p['fico_average'] = (p2p['fico_range_high'] - p2p['fico_range_low'])/2\n",
        "print(\"Total No of columns - \", len(p2p.columns))\n",
        "\n",
        "#Let's look at result\n",
        "p2p[['fico_average','fico_range_high','fico_range_low']]\n",
        "\n",
        "#Now we have got mean value of FICO score which we can use further\n",
        "#Now, we can go ahead and drop fico_range_low, fico_range_high, last_fico_range_low, and last_fico_range_high columns.\n",
        "p2p = p2p.drop(['fico_range_low', 'fico_range_high','last_fico_range_high', 'last_fico_range_low'],axis=1)\n",
        "print(\"Total No of columns - \", len(p2p.columns))"
      ],
      "metadata": {
        "colab": {
          "base_uri": "https://localhost:8080/"
        },
        "id": "PqfForeXwSRE",
        "outputId": "1c6ca59a-ebd4-4b1e-e8f6-1c4eea751dd2"
      },
      "execution_count": 18,
      "outputs": [
        {
          "output_type": "stream",
          "name": "stdout",
          "text": [
            "0\n",
            "Total No of columns -  24\n",
            "Total No of columns -  20\n"
          ]
        }
      ]
    },
    {
      "cell_type": "code",
      "source": [
        "# Create an empty dictionary to store the null counts\n",
        "null_counts = {}\n",
        "\n",
        "# Loop through each column and get the count of null values\n",
        "for c in p2p.columns:\n",
        "    null_count = sum(pd.isnull(p2p[c]))\n",
        "    null_counts[c] = null_count\n",
        "\n",
        "# Print the null counts dictionary\n",
        "print(\"Number of null values in each column:\")\n",
        "print(null_counts)\n",
        "\n",
        "#Removing the columns having the null values\n",
        "p2p.dropna(how='any',axis=0,inplace=True)\n",
        "len(p2p)"
      ],
      "metadata": {
        "colab": {
          "base_uri": "https://localhost:8080/"
        },
        "id": "fdTGCijlwSes",
        "outputId": "92066a72-9296-42c4-f15e-e2c7bf98b457"
      },
      "execution_count": 19,
      "outputs": [
        {
          "output_type": "stream",
          "name": "stdout",
          "text": [
            "Number of null values in each column:\n",
            "{'loan_amnt': 0, 'term': 0, 'installment': 0, 'grade': 0, 'emp_length': 1057, 'home_ownership': 0, 'annual_inc': 0, 'verification_status': 0, 'loan_status': 0, 'purpose': 0, 'title': 11, 'addr_state': 0, 'dti': 0, 'delinq_2yrs': 0, 'inq_last_6mths': 0, 'open_acc': 0, 'revol_bal': 0, 'revol_util': 50, 'total_acc': 0, 'fico_average': 0}\n"
          ]
        },
        {
          "output_type": "execute_result",
          "data": {
            "text/plain": [
              "38125"
            ]
          },
          "metadata": {},
          "execution_count": 19
        }
      ]
    },
    {
      "cell_type": "code",
      "source": [
        "print(p2p.dtypes)\n",
        "# Filter dataframe columns by datatype 'string'\n",
        "object_columns_df = p2p.select_dtypes(include=['object']).columns\n",
        "\n",
        "#Finding count of distinct elements in DataFrame in each column\n",
        "for i in object_columns_df:\n",
        "    print(i,len(p2p[i].unique()))"
      ],
      "metadata": {
        "colab": {
          "base_uri": "https://localhost:8080/"
        },
        "id": "Afcomi67wgfc",
        "outputId": "672aaaaa-98ad-4fa0-eb11-71df72a3ac23"
      },
      "execution_count": 20,
      "outputs": [
        {
          "output_type": "stream",
          "name": "stdout",
          "text": [
            "loan_amnt              float64\n",
            "term                    object\n",
            "installment            float64\n",
            "grade                   object\n",
            "emp_length              object\n",
            "home_ownership          object\n",
            "annual_inc             float64\n",
            "verification_status     object\n",
            "loan_status             object\n",
            "purpose                 object\n",
            "title                   object\n",
            "addr_state              object\n",
            "dti                    float64\n",
            "delinq_2yrs            float64\n",
            "inq_last_6mths         float64\n",
            "open_acc               float64\n",
            "revol_bal              float64\n",
            "revol_util              object\n",
            "total_acc              float64\n",
            "fico_average           float64\n",
            "dtype: object\n",
            "term 2\n",
            "grade 7\n",
            "emp_length 11\n",
            "home_ownership 5\n",
            "verification_status 3\n",
            "loan_status 2\n",
            "purpose 14\n",
            "title 19023\n",
            "addr_state 50\n",
            "revol_util 1087\n"
          ]
        }
      ]
    },
    {
      "cell_type": "code",
      "source": [
        "print(p2p.columns)\n",
        "p2p = p2p.drop(['title','addr_state'],axis=1)\n",
        "print(\"Total No of columns - \", len(p2p.columns))"
      ],
      "metadata": {
        "colab": {
          "base_uri": "https://localhost:8080/"
        },
        "id": "Ufh4yPFpwlX9",
        "outputId": "fecbaff0-3141-4296-929f-f17f5b59b1cb"
      },
      "execution_count": 21,
      "outputs": [
        {
          "output_type": "stream",
          "name": "stdout",
          "text": [
            "Index(['loan_amnt', 'term', 'installment', 'grade', 'emp_length',\n",
            "       'home_ownership', 'annual_inc', 'verification_status', 'loan_status',\n",
            "       'purpose', 'title', 'addr_state', 'dti', 'delinq_2yrs',\n",
            "       'inq_last_6mths', 'open_acc', 'revol_bal', 'revol_util', 'total_acc',\n",
            "       'fico_average'],\n",
            "      dtype='object')\n",
            "Total No of columns -  18\n"
          ]
        }
      ]
    },
    {
      "cell_type": "code",
      "source": [
        "# see what are the values in 'revol_util' column\n",
        "print(p2p['revol_util'])\n",
        "\n",
        "# Remove % in revol_util and change the data type to float\n",
        "p2p['revol_util'] = p2p['revol_util'].str.rstrip('%').astype('float')\n",
        "\n",
        "# view the result\n",
        "p2p['revol_util']"
      ],
      "metadata": {
        "colab": {
          "base_uri": "https://localhost:8080/"
        },
        "id": "m7NSTnqYwoaN",
        "outputId": "5f9d39cc-b9af-4410-d56c-4e3cd792e92f"
      },
      "execution_count": 22,
      "outputs": [
        {
          "output_type": "stream",
          "name": "stdout",
          "text": [
            "0        83.7%\n",
            "1         9.4%\n",
            "2        98.5%\n",
            "3          21%\n",
            "5        28.3%\n",
            "         ...  \n",
            "39781    13.1%\n",
            "39782    26.9%\n",
            "39783    19.4%\n",
            "39784     0.7%\n",
            "39785    51.5%\n",
            "Name: revol_util, Length: 38125, dtype: object\n"
          ]
        },
        {
          "output_type": "execute_result",
          "data": {
            "text/plain": [
              "0        83.7\n",
              "1         9.4\n",
              "2        98.5\n",
              "3        21.0\n",
              "5        28.3\n",
              "         ... \n",
              "39781    13.1\n",
              "39782    26.9\n",
              "39783    19.4\n",
              "39784     0.7\n",
              "39785    51.5\n",
              "Name: revol_util, Length: 38125, dtype: float64"
            ]
          },
          "metadata": {},
          "execution_count": 22
        }
      ]
    },
    {
      "cell_type": "code",
      "source": [
        "p2p.isnull().sum()"
      ],
      "metadata": {
        "colab": {
          "base_uri": "https://localhost:8080/"
        },
        "id": "lGwAdosFwrft",
        "outputId": "b8710bed-a21d-4540-f828-3e05819507ff"
      },
      "execution_count": 23,
      "outputs": [
        {
          "output_type": "execute_result",
          "data": {
            "text/plain": [
              "loan_amnt              0\n",
              "term                   0\n",
              "installment            0\n",
              "grade                  0\n",
              "emp_length             0\n",
              "home_ownership         0\n",
              "annual_inc             0\n",
              "verification_status    0\n",
              "loan_status            0\n",
              "purpose                0\n",
              "dti                    0\n",
              "delinq_2yrs            0\n",
              "inq_last_6mths         0\n",
              "open_acc               0\n",
              "revol_bal              0\n",
              "revol_util             0\n",
              "total_acc              0\n",
              "fico_average           0\n",
              "dtype: int64"
            ]
          },
          "metadata": {},
          "execution_count": 23
        }
      ]
    },
    {
      "cell_type": "code",
      "source": [
        "# see what are the values in 'term' column\n",
        "print(p2p['term'])\n",
        "\n",
        "# Remove months in term\n",
        "p2p['term'] = p2p['term'].str.rstrip(' months')\n",
        "\n",
        "# view the result\n",
        "p2p['term']"
      ],
      "metadata": {
        "colab": {
          "base_uri": "https://localhost:8080/"
        },
        "id": "H6cjoEmtwvGL",
        "outputId": "dd4d94cb-e47d-4e61-e51e-922ab814986d"
      },
      "execution_count": 24,
      "outputs": [
        {
          "output_type": "stream",
          "name": "stdout",
          "text": [
            "0         36 months\n",
            "1         60 months\n",
            "2         36 months\n",
            "3         36 months\n",
            "5         36 months\n",
            "            ...    \n",
            "39781     36 months\n",
            "39782     36 months\n",
            "39783     36 months\n",
            "39784     36 months\n",
            "39785     36 months\n",
            "Name: term, Length: 38125, dtype: object\n"
          ]
        },
        {
          "output_type": "execute_result",
          "data": {
            "text/plain": [
              "0         36\n",
              "1         60\n",
              "2         36\n",
              "3         36\n",
              "5         36\n",
              "        ... \n",
              "39781     36\n",
              "39782     36\n",
              "39783     36\n",
              "39784     36\n",
              "39785     36\n",
              "Name: term, Length: 38125, dtype: object"
            ]
          },
          "metadata": {},
          "execution_count": 24
        }
      ]
    },
    {
      "cell_type": "code",
      "source": [
        "status_replace = {\n",
        "    \"loan_status\" : {\n",
        "        \"Fully Paid\": 1,\n",
        "        \"Charged Off\": 0,\n",
        "    }\n",
        "}\n",
        "\n",
        "p2p = p2p.replace(status_replace)"
      ],
      "metadata": {
        "id": "0-y_u-ShwrlV"
      },
      "execution_count": 25,
      "outputs": []
    },
    {
      "cell_type": "code",
      "source": [
        "p2p['loan_status']"
      ],
      "metadata": {
        "colab": {
          "base_uri": "https://localhost:8080/"
        },
        "id": "QdvwKiFGw2vs",
        "outputId": "c5f08af7-5963-4be0-bb67-2a04a12e67c2"
      },
      "execution_count": 26,
      "outputs": [
        {
          "output_type": "execute_result",
          "data": {
            "text/plain": [
              "0        1\n",
              "1        0\n",
              "2        1\n",
              "3        1\n",
              "5        1\n",
              "        ..\n",
              "39781    1\n",
              "39782    1\n",
              "39783    1\n",
              "39784    1\n",
              "39785    1\n",
              "Name: loan_status, Length: 38125, dtype: int64"
            ]
          },
          "metadata": {},
          "execution_count": 26
        }
      ]
    },
    {
      "cell_type": "code",
      "source": [
        "# see what are the values in 'emp_length' column\n",
        "print(p2p['emp_length'].value_counts(dropna=False))\n",
        "\n",
        "# converting categorical value to numerical \n",
        "mapping_dict = {\n",
        "    \"emp_length\": {\n",
        "        \"10+ years\": 10,\n",
        "        \"9 years\": 9,\n",
        "        \"8 years\": 8,\n",
        "        \"7 years\": 7,\n",
        "        \"6 years\": 6,\n",
        "        \"5 years\": 5,\n",
        "        \"4 years\": 4,\n",
        "        \"3 years\": 3,\n",
        "        \"2 years\": 2,\n",
        "        \"1 year\": 1,\n",
        "        \"< 1 year\": 0\n",
        "    }\n",
        "}\n",
        "\n",
        "p2p = p2p.replace(mapping_dict)\n",
        "\n",
        "# view the result\n",
        "p2p['emp_length'].value_counts(dropna=False)"
      ],
      "metadata": {
        "colab": {
          "base_uri": "https://localhost:8080/"
        },
        "id": "5kG693hIw5Fm",
        "outputId": "df9a8f6e-0274-4699-acf3-1c97bd099d41"
      },
      "execution_count": 27,
      "outputs": [
        {
          "output_type": "stream",
          "name": "stdout",
          "text": [
            "10+ years    8715\n",
            "< 1 year     4543\n",
            "2 years      4344\n",
            "3 years      4050\n",
            "4 years      3385\n",
            "5 years      3244\n",
            "1 year       3207\n",
            "6 years      2198\n",
            "7 years      1738\n",
            "8 years      1457\n",
            "9 years      1244\n",
            "Name: emp_length, dtype: int64\n"
          ]
        },
        {
          "output_type": "execute_result",
          "data": {
            "text/plain": [
              "10    8715\n",
              "0     4543\n",
              "2     4344\n",
              "3     4050\n",
              "4     3385\n",
              "5     3244\n",
              "1     3207\n",
              "6     2198\n",
              "7     1738\n",
              "8     1457\n",
              "9     1244\n",
              "Name: emp_length, dtype: int64"
            ]
          },
          "metadata": {},
          "execution_count": 27
        }
      ]
    },
    {
      "cell_type": "code",
      "source": [
        "# see what are the values in 'emp_length' column\n",
        "print(p2p['grade'].value_counts(dropna=False))\n",
        "\n",
        "# converting categorical value to numerical \n",
        "mapping_dict1 = {\n",
        "    \"grade\":{\n",
        "        \"A\": 1,\n",
        "        \"B\": 2,\n",
        "        \"C\": 3,\n",
        "        \"D\": 4,\n",
        "        \"E\": 5,\n",
        "        \"F\": 6,\n",
        "        \"G\": 7\n",
        "    }\n",
        "}\n",
        "\n",
        "p2p = p2p.replace(mapping_dict1)\n",
        "\n",
        "# view the result\n",
        "p2p['grade'].value_counts(dropna=False)"
      ],
      "metadata": {
        "colab": {
          "base_uri": "https://localhost:8080/"
        },
        "id": "jeFVHqYOw5UY",
        "outputId": "685f3146-f996-463a-9d6d-566c45f8a5f4"
      },
      "execution_count": 28,
      "outputs": [
        {
          "output_type": "stream",
          "name": "stdout",
          "text": [
            "B    11546\n",
            "A     9676\n",
            "C     7801\n",
            "D     5086\n",
            "E     2715\n",
            "F      993\n",
            "G      308\n",
            "Name: grade, dtype: int64\n"
          ]
        },
        {
          "output_type": "execute_result",
          "data": {
            "text/plain": [
              "2    11546\n",
              "1     9676\n",
              "3     7801\n",
              "4     5086\n",
              "5     2715\n",
              "6      993\n",
              "7      308\n",
              "Name: grade, dtype: int64"
            ]
          },
          "metadata": {},
          "execution_count": 28
        }
      ]
    },
    {
      "cell_type": "code",
      "source": [
        "nominal_columns = [\"home_ownership\", \"verification_status\", \"purpose\", \"term\"]\n",
        "\n",
        "#Creating dummy columns of Nominal categorical value columns\n",
        "dummy_df = pd.get_dummies(p2p[nominal_columns])\n",
        "\n",
        "#Adding dummy columns to dataframe\n",
        "p2p = pd.concat([p2p, dummy_df], axis=1)\n",
        "\n",
        "#Dorping the original categorical columns\n",
        "p2p = p2p.drop(nominal_columns, axis=1)\n",
        "\n",
        "p2p.head()\n"
      ],
      "metadata": {
        "colab": {
          "base_uri": "https://localhost:8080/",
          "height": 317
        },
        "id": "-ktaiGWDxAiz",
        "outputId": "ebff9ae5-427c-439e-9dfe-6797c6d53b29"
      },
      "execution_count": 29,
      "outputs": [
        {
          "output_type": "execute_result",
          "data": {
            "text/plain": [
              "   loan_amnt  installment  grade  emp_length  annual_inc  loan_status    dti  \\\n",
              "0     5000.0       162.87      2          10     24000.0            1  27.65   \n",
              "1     2500.0        59.83      3           0     30000.0            0   1.00   \n",
              "2     2400.0        84.33      3          10     12252.0            1   8.72   \n",
              "3    10000.0       339.31      3          10     49200.0            1  20.00   \n",
              "5     5000.0       156.46      1           3     36000.0            1  11.20   \n",
              "\n",
              "   delinq_2yrs  inq_last_6mths  open_acc  ...  purpose_major_purchase  \\\n",
              "0          0.0             1.0       3.0  ...                       0   \n",
              "1          0.0             5.0       3.0  ...                       0   \n",
              "2          0.0             2.0       2.0  ...                       0   \n",
              "3          0.0             1.0      10.0  ...                       0   \n",
              "5          0.0             3.0       9.0  ...                       0   \n",
              "\n",
              "   purpose_medical  purpose_moving  purpose_other  purpose_renewable_energy  \\\n",
              "0                0               0              0                         0   \n",
              "1                0               0              0                         0   \n",
              "2                0               0              0                         0   \n",
              "3                0               0              1                         0   \n",
              "5                0               0              0                         0   \n",
              "\n",
              "   purpose_small_business  purpose_vacation  purpose_wedding  term_ 36  \\\n",
              "0                       0                 0                0         1   \n",
              "1                       0                 0                0         0   \n",
              "2                       1                 0                0         1   \n",
              "3                       0                 0                0         1   \n",
              "5                       0                 0                1         1   \n",
              "\n",
              "   term_ 60  \n",
              "0         0  \n",
              "1         1  \n",
              "2         0  \n",
              "3         0  \n",
              "5         0  \n",
              "\n",
              "[5 rows x 38 columns]"
            ],
            "text/html": [
              "\n",
              "  <div id=\"df-85c3b0a7-8feb-445c-8bba-75ad10a0fe3d\">\n",
              "    <div class=\"colab-df-container\">\n",
              "      <div>\n",
              "<style scoped>\n",
              "    .dataframe tbody tr th:only-of-type {\n",
              "        vertical-align: middle;\n",
              "    }\n",
              "\n",
              "    .dataframe tbody tr th {\n",
              "        vertical-align: top;\n",
              "    }\n",
              "\n",
              "    .dataframe thead th {\n",
              "        text-align: right;\n",
              "    }\n",
              "</style>\n",
              "<table border=\"1\" class=\"dataframe\">\n",
              "  <thead>\n",
              "    <tr style=\"text-align: right;\">\n",
              "      <th></th>\n",
              "      <th>loan_amnt</th>\n",
              "      <th>installment</th>\n",
              "      <th>grade</th>\n",
              "      <th>emp_length</th>\n",
              "      <th>annual_inc</th>\n",
              "      <th>loan_status</th>\n",
              "      <th>dti</th>\n",
              "      <th>delinq_2yrs</th>\n",
              "      <th>inq_last_6mths</th>\n",
              "      <th>open_acc</th>\n",
              "      <th>...</th>\n",
              "      <th>purpose_major_purchase</th>\n",
              "      <th>purpose_medical</th>\n",
              "      <th>purpose_moving</th>\n",
              "      <th>purpose_other</th>\n",
              "      <th>purpose_renewable_energy</th>\n",
              "      <th>purpose_small_business</th>\n",
              "      <th>purpose_vacation</th>\n",
              "      <th>purpose_wedding</th>\n",
              "      <th>term_ 36</th>\n",
              "      <th>term_ 60</th>\n",
              "    </tr>\n",
              "  </thead>\n",
              "  <tbody>\n",
              "    <tr>\n",
              "      <th>0</th>\n",
              "      <td>5000.0</td>\n",
              "      <td>162.87</td>\n",
              "      <td>2</td>\n",
              "      <td>10</td>\n",
              "      <td>24000.0</td>\n",
              "      <td>1</td>\n",
              "      <td>27.65</td>\n",
              "      <td>0.0</td>\n",
              "      <td>1.0</td>\n",
              "      <td>3.0</td>\n",
              "      <td>...</td>\n",
              "      <td>0</td>\n",
              "      <td>0</td>\n",
              "      <td>0</td>\n",
              "      <td>0</td>\n",
              "      <td>0</td>\n",
              "      <td>0</td>\n",
              "      <td>0</td>\n",
              "      <td>0</td>\n",
              "      <td>1</td>\n",
              "      <td>0</td>\n",
              "    </tr>\n",
              "    <tr>\n",
              "      <th>1</th>\n",
              "      <td>2500.0</td>\n",
              "      <td>59.83</td>\n",
              "      <td>3</td>\n",
              "      <td>0</td>\n",
              "      <td>30000.0</td>\n",
              "      <td>0</td>\n",
              "      <td>1.00</td>\n",
              "      <td>0.0</td>\n",
              "      <td>5.0</td>\n",
              "      <td>3.0</td>\n",
              "      <td>...</td>\n",
              "      <td>0</td>\n",
              "      <td>0</td>\n",
              "      <td>0</td>\n",
              "      <td>0</td>\n",
              "      <td>0</td>\n",
              "      <td>0</td>\n",
              "      <td>0</td>\n",
              "      <td>0</td>\n",
              "      <td>0</td>\n",
              "      <td>1</td>\n",
              "    </tr>\n",
              "    <tr>\n",
              "      <th>2</th>\n",
              "      <td>2400.0</td>\n",
              "      <td>84.33</td>\n",
              "      <td>3</td>\n",
              "      <td>10</td>\n",
              "      <td>12252.0</td>\n",
              "      <td>1</td>\n",
              "      <td>8.72</td>\n",
              "      <td>0.0</td>\n",
              "      <td>2.0</td>\n",
              "      <td>2.0</td>\n",
              "      <td>...</td>\n",
              "      <td>0</td>\n",
              "      <td>0</td>\n",
              "      <td>0</td>\n",
              "      <td>0</td>\n",
              "      <td>0</td>\n",
              "      <td>1</td>\n",
              "      <td>0</td>\n",
              "      <td>0</td>\n",
              "      <td>1</td>\n",
              "      <td>0</td>\n",
              "    </tr>\n",
              "    <tr>\n",
              "      <th>3</th>\n",
              "      <td>10000.0</td>\n",
              "      <td>339.31</td>\n",
              "      <td>3</td>\n",
              "      <td>10</td>\n",
              "      <td>49200.0</td>\n",
              "      <td>1</td>\n",
              "      <td>20.00</td>\n",
              "      <td>0.0</td>\n",
              "      <td>1.0</td>\n",
              "      <td>10.0</td>\n",
              "      <td>...</td>\n",
              "      <td>0</td>\n",
              "      <td>0</td>\n",
              "      <td>0</td>\n",
              "      <td>1</td>\n",
              "      <td>0</td>\n",
              "      <td>0</td>\n",
              "      <td>0</td>\n",
              "      <td>0</td>\n",
              "      <td>1</td>\n",
              "      <td>0</td>\n",
              "    </tr>\n",
              "    <tr>\n",
              "      <th>5</th>\n",
              "      <td>5000.0</td>\n",
              "      <td>156.46</td>\n",
              "      <td>1</td>\n",
              "      <td>3</td>\n",
              "      <td>36000.0</td>\n",
              "      <td>1</td>\n",
              "      <td>11.20</td>\n",
              "      <td>0.0</td>\n",
              "      <td>3.0</td>\n",
              "      <td>9.0</td>\n",
              "      <td>...</td>\n",
              "      <td>0</td>\n",
              "      <td>0</td>\n",
              "      <td>0</td>\n",
              "      <td>0</td>\n",
              "      <td>0</td>\n",
              "      <td>0</td>\n",
              "      <td>0</td>\n",
              "      <td>1</td>\n",
              "      <td>1</td>\n",
              "      <td>0</td>\n",
              "    </tr>\n",
              "  </tbody>\n",
              "</table>\n",
              "<p>5 rows × 38 columns</p>\n",
              "</div>\n",
              "      <button class=\"colab-df-convert\" onclick=\"convertToInteractive('df-85c3b0a7-8feb-445c-8bba-75ad10a0fe3d')\"\n",
              "              title=\"Convert this dataframe to an interactive table.\"\n",
              "              style=\"display:none;\">\n",
              "        \n",
              "  <svg xmlns=\"http://www.w3.org/2000/svg\" height=\"24px\"viewBox=\"0 0 24 24\"\n",
              "       width=\"24px\">\n",
              "    <path d=\"M0 0h24v24H0V0z\" fill=\"none\"/>\n",
              "    <path d=\"M18.56 5.44l.94 2.06.94-2.06 2.06-.94-2.06-.94-.94-2.06-.94 2.06-2.06.94zm-11 1L8.5 8.5l.94-2.06 2.06-.94-2.06-.94L8.5 2.5l-.94 2.06-2.06.94zm10 10l.94 2.06.94-2.06 2.06-.94-2.06-.94-.94-2.06-.94 2.06-2.06.94z\"/><path d=\"M17.41 7.96l-1.37-1.37c-.4-.4-.92-.59-1.43-.59-.52 0-1.04.2-1.43.59L10.3 9.45l-7.72 7.72c-.78.78-.78 2.05 0 2.83L4 21.41c.39.39.9.59 1.41.59.51 0 1.02-.2 1.41-.59l7.78-7.78 2.81-2.81c.8-.78.8-2.07 0-2.86zM5.41 20L4 18.59l7.72-7.72 1.47 1.35L5.41 20z\"/>\n",
              "  </svg>\n",
              "      </button>\n",
              "      \n",
              "  <style>\n",
              "    .colab-df-container {\n",
              "      display:flex;\n",
              "      flex-wrap:wrap;\n",
              "      gap: 12px;\n",
              "    }\n",
              "\n",
              "    .colab-df-convert {\n",
              "      background-color: #E8F0FE;\n",
              "      border: none;\n",
              "      border-radius: 50%;\n",
              "      cursor: pointer;\n",
              "      display: none;\n",
              "      fill: #1967D2;\n",
              "      height: 32px;\n",
              "      padding: 0 0 0 0;\n",
              "      width: 32px;\n",
              "    }\n",
              "\n",
              "    .colab-df-convert:hover {\n",
              "      background-color: #E2EBFA;\n",
              "      box-shadow: 0px 1px 2px rgba(60, 64, 67, 0.3), 0px 1px 3px 1px rgba(60, 64, 67, 0.15);\n",
              "      fill: #174EA6;\n",
              "    }\n",
              "\n",
              "    [theme=dark] .colab-df-convert {\n",
              "      background-color: #3B4455;\n",
              "      fill: #D2E3FC;\n",
              "    }\n",
              "\n",
              "    [theme=dark] .colab-df-convert:hover {\n",
              "      background-color: #434B5C;\n",
              "      box-shadow: 0px 1px 3px 1px rgba(0, 0, 0, 0.15);\n",
              "      filter: drop-shadow(0px 1px 2px rgba(0, 0, 0, 0.3));\n",
              "      fill: #FFFFFF;\n",
              "    }\n",
              "  </style>\n",
              "\n",
              "      <script>\n",
              "        const buttonEl =\n",
              "          document.querySelector('#df-85c3b0a7-8feb-445c-8bba-75ad10a0fe3d button.colab-df-convert');\n",
              "        buttonEl.style.display =\n",
              "          google.colab.kernel.accessAllowed ? 'block' : 'none';\n",
              "\n",
              "        async function convertToInteractive(key) {\n",
              "          const element = document.querySelector('#df-85c3b0a7-8feb-445c-8bba-75ad10a0fe3d');\n",
              "          const dataTable =\n",
              "            await google.colab.kernel.invokeFunction('convertToInteractive',\n",
              "                                                     [key], {});\n",
              "          if (!dataTable) return;\n",
              "\n",
              "          const docLinkHtml = 'Like what you see? Visit the ' +\n",
              "            '<a target=\"_blank\" href=https://colab.research.google.com/notebooks/data_table.ipynb>data table notebook</a>'\n",
              "            + ' to learn more about interactive tables.';\n",
              "          element.innerHTML = '';\n",
              "          dataTable['output_type'] = 'display_data';\n",
              "          await google.colab.output.renderOutput(dataTable, element);\n",
              "          const docLink = document.createElement('div');\n",
              "          docLink.innerHTML = docLinkHtml;\n",
              "          element.appendChild(docLink);\n",
              "        }\n",
              "      </script>\n",
              "    </div>\n",
              "  </div>\n",
              "  "
            ]
          },
          "metadata": {},
          "execution_count": 29
        }
      ]
    },
    {
      "cell_type": "code",
      "source": [
        "p2p.info()"
      ],
      "metadata": {
        "colab": {
          "base_uri": "https://localhost:8080/"
        },
        "id": "DYcVaJaAxJK0",
        "outputId": "83caf86b-8d6a-43bc-b4fa-271def76aaad"
      },
      "execution_count": 30,
      "outputs": [
        {
          "output_type": "stream",
          "name": "stdout",
          "text": [
            "<class 'pandas.core.frame.DataFrame'>\n",
            "Int64Index: 38125 entries, 0 to 39785\n",
            "Data columns (total 38 columns):\n",
            " #   Column                               Non-Null Count  Dtype  \n",
            "---  ------                               --------------  -----  \n",
            " 0   loan_amnt                            38125 non-null  float64\n",
            " 1   installment                          38125 non-null  float64\n",
            " 2   grade                                38125 non-null  int64  \n",
            " 3   emp_length                           38125 non-null  int64  \n",
            " 4   annual_inc                           38125 non-null  float64\n",
            " 5   loan_status                          38125 non-null  int64  \n",
            " 6   dti                                  38125 non-null  float64\n",
            " 7   delinq_2yrs                          38125 non-null  float64\n",
            " 8   inq_last_6mths                       38125 non-null  float64\n",
            " 9   open_acc                             38125 non-null  float64\n",
            " 10  revol_bal                            38125 non-null  float64\n",
            " 11  revol_util                           38125 non-null  float64\n",
            " 12  total_acc                            38125 non-null  float64\n",
            " 13  fico_average                         38125 non-null  float64\n",
            " 14  home_ownership_MORTGAGE              38125 non-null  uint8  \n",
            " 15  home_ownership_NONE                  38125 non-null  uint8  \n",
            " 16  home_ownership_OTHER                 38125 non-null  uint8  \n",
            " 17  home_ownership_OWN                   38125 non-null  uint8  \n",
            " 18  home_ownership_RENT                  38125 non-null  uint8  \n",
            " 19  verification_status_Not Verified     38125 non-null  uint8  \n",
            " 20  verification_status_Source Verified  38125 non-null  uint8  \n",
            " 21  verification_status_Verified         38125 non-null  uint8  \n",
            " 22  purpose_car                          38125 non-null  uint8  \n",
            " 23  purpose_credit_card                  38125 non-null  uint8  \n",
            " 24  purpose_debt_consolidation           38125 non-null  uint8  \n",
            " 25  purpose_educational                  38125 non-null  uint8  \n",
            " 26  purpose_home_improvement             38125 non-null  uint8  \n",
            " 27  purpose_house                        38125 non-null  uint8  \n",
            " 28  purpose_major_purchase               38125 non-null  uint8  \n",
            " 29  purpose_medical                      38125 non-null  uint8  \n",
            " 30  purpose_moving                       38125 non-null  uint8  \n",
            " 31  purpose_other                        38125 non-null  uint8  \n",
            " 32  purpose_renewable_energy             38125 non-null  uint8  \n",
            " 33  purpose_small_business               38125 non-null  uint8  \n",
            " 34  purpose_vacation                     38125 non-null  uint8  \n",
            " 35  purpose_wedding                      38125 non-null  uint8  \n",
            " 36  term_ 36                             38125 non-null  uint8  \n",
            " 37  term_ 60                             38125 non-null  uint8  \n",
            "dtypes: float64(11), int64(3), uint8(24)\n",
            "memory usage: 5.2 MB\n"
          ]
        }
      ]
    },
    {
      "cell_type": "code",
      "source": [
        "!pip install pyspark\n",
        "import pyspark\n",
        "from pyspark.sql import SparkSession\n",
        "from pyspark.sql.functions import isnan, when,mean,count, col,desc,year, quarter, when,lit, to_date, to_timestamp, concat, avg,countDistinct\n",
        "from pyspark.sql.types import StringType\n",
        "from pyspark.sql.functions import regexp_replace\n",
        "from pyspark.ml.feature import StringIndexer"
      ],
      "metadata": {
        "colab": {
          "base_uri": "https://localhost:8080/"
        },
        "id": "abklf_wUxMGM",
        "outputId": "3776e558-014d-4f30-a2fc-ec88755493e8"
      },
      "execution_count": 32,
      "outputs": [
        {
          "output_type": "stream",
          "name": "stdout",
          "text": [
            "Looking in indexes: https://pypi.org/simple, https://us-python.pkg.dev/colab-wheels/public/simple/\n",
            "Collecting pyspark\n",
            "  Downloading pyspark-3.3.2.tar.gz (281.4 MB)\n",
            "\u001b[2K     \u001b[90m━━━━━━━━━━━━━━━━━━━━━━━━━━━━━━━━━━━━━━━\u001b[0m \u001b[32m281.4/281.4 MB\u001b[0m \u001b[31m4.5 MB/s\u001b[0m eta \u001b[36m0:00:00\u001b[0m\n",
            "\u001b[?25h  Preparing metadata (setup.py) ... \u001b[?25l\u001b[?25hdone\n",
            "Collecting py4j==0.10.9.5\n",
            "  Downloading py4j-0.10.9.5-py2.py3-none-any.whl (199 kB)\n",
            "\u001b[2K     \u001b[90m━━━━━━━━━━━━━━━━━━━━━━━━━━━━━━━━━━━━━━\u001b[0m \u001b[32m199.7/199.7 KB\u001b[0m \u001b[31m17.3 MB/s\u001b[0m eta \u001b[36m0:00:00\u001b[0m\n",
            "\u001b[?25hBuilding wheels for collected packages: pyspark\n",
            "  Building wheel for pyspark (setup.py) ... \u001b[?25l\u001b[?25hdone\n",
            "  Created wheel for pyspark: filename=pyspark-3.3.2-py2.py3-none-any.whl size=281824025 sha256=96a6d9978342df846214cdd98640ff0d1c690b61217725ff59f73af48999ee1b\n",
            "  Stored in directory: /root/.cache/pip/wheels/b1/59/a0/a1a0624b5e865fd389919c1a10f53aec9b12195d6747710baf\n",
            "Successfully built pyspark\n",
            "Installing collected packages: py4j, pyspark\n",
            "Successfully installed py4j-0.10.9.5 pyspark-3.3.2\n"
          ]
        }
      ]
    },
    {
      "cell_type": "code",
      "source": [
        "spark = SparkSession.builder.appName(\"P2P_Lending\").getOrCreate()\n",
        "sc = spark.sparkContext\n",
        "\n",
        "df_spark = spark.createDataFrame(p2p)"
      ],
      "metadata": {
        "id": "vxsVkS9_xPB1"
      },
      "execution_count": 33,
      "outputs": []
    },
    {
      "cell_type": "code",
      "source": [
        "from pyspark.ml.feature import VectorAssembler\n",
        "col_list=df_spark.columns\n",
        "# set the input and output column names\n",
        "assembler = VectorAssembler(inputCols=[ *col_list ], outputCol=\"features\",handleInvalid='skip')\n",
        "\n",
        "df_spark = assembler.transform(df_spark)\n"
      ],
      "metadata": {
        "id": "R4ZXEVexxVXT"
      },
      "execution_count": 34,
      "outputs": []
    },
    {
      "cell_type": "code",
      "source": [
        "df_spark.show(5)"
      ],
      "metadata": {
        "colab": {
          "base_uri": "https://localhost:8080/"
        },
        "id": "p5GMRTA3xWKy",
        "outputId": "4c06ad3b-fcd6-4372-8c37-ee4ab06d07af"
      },
      "execution_count": 35,
      "outputs": [
        {
          "output_type": "stream",
          "name": "stdout",
          "text": [
            "+---------+-----------+-----+----------+----------+-----------+-----+-----------+--------------+--------+---------+----------+---------+------------+-----------------------+-------------------+--------------------+------------------+-------------------+--------------------------------+-----------------------------------+----------------------------+-----------+-------------------+--------------------------+-------------------+------------------------+-------------+----------------------+---------------+--------------+-------------+------------------------+----------------------+----------------+---------------+--------+--------+--------------------+\n",
            "|loan_amnt|installment|grade|emp_length|annual_inc|loan_status|  dti|delinq_2yrs|inq_last_6mths|open_acc|revol_bal|revol_util|total_acc|fico_average|home_ownership_MORTGAGE|home_ownership_NONE|home_ownership_OTHER|home_ownership_OWN|home_ownership_RENT|verification_status_Not Verified|verification_status_Source Verified|verification_status_Verified|purpose_car|purpose_credit_card|purpose_debt_consolidation|purpose_educational|purpose_home_improvement|purpose_house|purpose_major_purchase|purpose_medical|purpose_moving|purpose_other|purpose_renewable_energy|purpose_small_business|purpose_vacation|purpose_wedding|term_ 36|term_ 60|            features|\n",
            "+---------+-----------+-----+----------+----------+-----------+-----+-----------+--------------+--------+---------+----------+---------+------------+-----------------------+-------------------+--------------------+------------------+-------------------+--------------------------------+-----------------------------------+----------------------------+-----------+-------------------+--------------------------+-------------------+------------------------+-------------+----------------------+---------------+--------------+-------------+------------------------+----------------------+----------------+---------------+--------+--------+--------------------+\n",
            "|   5000.0|     162.87|    2|        10|   24000.0|          1|27.65|        0.0|           1.0|     3.0|  13648.0|      83.7|      9.0|         2.0|                      0|                  0|                   0|                 0|                  1|                               0|                                  0|                           1|          0|                  1|                         0|                  0|                       0|            0|                     0|              0|             0|            0|                       0|                     0|               0|              0|       1|       0|(38,[0,1,2,3,4,5,...|\n",
            "|   2500.0|      59.83|    3|         0|   30000.0|          0|  1.0|        0.0|           5.0|     3.0|   1687.0|       9.4|      4.0|         2.0|                      0|                  0|                   0|                 0|                  1|                               0|                                  1|                           0|          1|                  0|                         0|                  0|                       0|            0|                     0|              0|             0|            0|                       0|                     0|               0|              0|       0|       1|(38,[0,1,2,4,6,8,...|\n",
            "|   2400.0|      84.33|    3|        10|   12252.0|          1| 8.72|        0.0|           2.0|     2.0|   2956.0|      98.5|     10.0|         2.0|                      0|                  0|                   0|                 0|                  1|                               1|                                  0|                           0|          0|                  0|                         0|                  0|                       0|            0|                     0|              0|             0|            0|                       0|                     1|               0|              0|       1|       0|(38,[0,1,2,3,4,5,...|\n",
            "|  10000.0|     339.31|    3|        10|   49200.0|          1| 20.0|        0.0|           1.0|    10.0|   5598.0|      21.0|     37.0|         2.0|                      0|                  0|                   0|                 0|                  1|                               0|                                  1|                           0|          0|                  0|                         0|                  0|                       0|            0|                     0|              0|             0|            1|                       0|                     0|               0|              0|       1|       0|(38,[0,1,2,3,4,5,...|\n",
            "|   5000.0|     156.46|    1|         3|   36000.0|          1| 11.2|        0.0|           3.0|     9.0|   7963.0|      28.3|     12.0|         2.0|                      0|                  0|                   0|                 0|                  1|                               0|                                  1|                           0|          0|                  0|                         0|                  0|                       0|            0|                     0|              0|             0|            0|                       0|                     0|               0|              1|       1|       0|(38,[0,1,2,3,4,5,...|\n",
            "+---------+-----------+-----+----------+----------+-----------+-----+-----------+--------------+--------+---------+----------+---------+------------+-----------------------+-------------------+--------------------+------------------+-------------------+--------------------------------+-----------------------------------+----------------------------+-----------+-------------------+--------------------------+-------------------+------------------------+-------------+----------------------+---------------+--------------+-------------+------------------------+----------------------+----------------+---------------+--------+--------+--------------------+\n",
            "only showing top 5 rows\n",
            "\n"
          ]
        }
      ]
    },
    {
      "cell_type": "code",
      "source": [
        "from pyspark.ml.classification import LogisticRegression\n",
        "\n",
        "lr = LogisticRegression( labelCol=\"loan_status\",featuresCol=\"features\", maxIter=10, regParam=0.01)\n",
        "\n",
        "from pyspark.sql.functions import col\n",
        "(trainingData, testData) = df_spark.randomSplit([0.7, 0.3], seed=100)"
      ],
      "metadata": {
        "id": "MfXKfLdKxZmk"
      },
      "execution_count": 36,
      "outputs": []
    },
    {
      "cell_type": "code",
      "source": [
        "trainingData.show()"
      ],
      "metadata": {
        "colab": {
          "base_uri": "https://localhost:8080/"
        },
        "id": "08v9QpI1xdXU",
        "outputId": "cf656a63-53b9-453f-e9f8-454bcc7a868c"
      },
      "execution_count": 37,
      "outputs": [
        {
          "output_type": "stream",
          "name": "stdout",
          "text": [
            "+---------+-----------+-----+----------+----------+-----------+-----+-----------+--------------+--------+---------+----------+---------+------------+-----------------------+-------------------+--------------------+------------------+-------------------+--------------------------------+-----------------------------------+----------------------------+-----------+-------------------+--------------------------+-------------------+------------------------+-------------+----------------------+---------------+--------------+-------------+------------------------+----------------------+----------------+---------------+--------+--------+--------------------+\n",
            "|loan_amnt|installment|grade|emp_length|annual_inc|loan_status|  dti|delinq_2yrs|inq_last_6mths|open_acc|revol_bal|revol_util|total_acc|fico_average|home_ownership_MORTGAGE|home_ownership_NONE|home_ownership_OTHER|home_ownership_OWN|home_ownership_RENT|verification_status_Not Verified|verification_status_Source Verified|verification_status_Verified|purpose_car|purpose_credit_card|purpose_debt_consolidation|purpose_educational|purpose_home_improvement|purpose_house|purpose_major_purchase|purpose_medical|purpose_moving|purpose_other|purpose_renewable_energy|purpose_small_business|purpose_vacation|purpose_wedding|term_ 36|term_ 60|            features|\n",
            "+---------+-----------+-----+----------+----------+-----------+-----+-----------+--------------+--------+---------+----------+---------+------------+-----------------------+-------------------+--------------------+------------------+-------------------+--------------------------------+-----------------------------------+----------------------------+-----------+-------------------+--------------------------+-------------------+------------------------+-------------+----------------------+---------------+--------------+-------------+------------------------+----------------------+----------------+---------------+--------+--------+--------------------+\n",
            "|   1000.0|      21.25|    2|         7|   38000.0|          1|22.01|        0.0|           0.0|    10.0|  36705.0|      80.4|     27.0|         2.0|                      1|                  0|                   0|                 0|                  0|                               0|                                  0|                           1|          0|                  0|                         1|                  0|                       0|            0|                     0|              0|             0|            0|                       0|                     0|               0|              0|       0|       1|(38,[0,1,2,3,4,5,...|\n",
            "|   1000.0|      21.74|    2|        10|   60000.0|          1| 5.34|        0.0|           0.0|    10.0|   1427.0|       6.3|     31.0|         2.0|                      1|                  0|                   0|                 0|                  0|                               0|                                  0|                           1|          1|                  0|                         0|                  0|                       0|            0|                     0|              0|             0|            0|                       0|                     0|               0|              0|       0|       1|(38,[0,1,2,3,4,5,...|\n",
            "|   1000.0|      21.99|    2|        10|   84000.0|          1|  8.1|        1.0|           0.0|    12.0|  22839.0|      32.6|     26.0|         2.0|                      1|                  0|                   0|                 0|                  0|                               1|                                  0|                           0|          1|                  0|                         0|                  0|                       0|            0|                     0|              0|             0|            0|                       0|                     0|               0|              0|       0|       1|(38,[0,1,2,3,4,5,...|\n",
            "|   1000.0|      22.59|    3|         5|   24000.0|          1| 9.15|        0.0|           2.0|    14.0|   5204.0|      31.5|     30.0|         2.0|                      1|                  0|                   0|                 0|                  0|                               1|                                  0|                           0|          0|                  0|                         0|                  0|                       0|            0|                     0|              0|             0|            0|                       0|                     0|               1|              0|       0|       1|(38,[0,1,2,3,4,5,...|\n",
            "|   1000.0|      22.79|    3|         1|    9600.0|          0| 22.5|        0.0|           0.0|     4.0|   1327.0|      53.1|      4.0|         2.0|                      0|                  0|                   0|                 0|                  1|                               1|                                  0|                           0|          0|                  0|                         0|                  0|                       0|            0|                     0|              0|             0|            0|                       0|                     1|               0|              0|       0|       1|(38,[0,1,2,3,4,6,...|\n",
            "|   1000.0|      23.17|    3|         3|   14400.0|          1| 26.0|        0.0|           1.0|     4.0|   4276.0|      64.1|      8.0|         2.0|                      0|                  0|                   0|                 0|                  1|                               1|                                  0|                           0|          0|                  0|                         0|                  0|                       0|            0|                     0|              0|             1|            0|                       0|                     0|               0|              0|       0|       1|(38,[0,1,2,3,4,5,...|\n",
            "|   1000.0|      24.32|    4|        10|   33000.0|          0|20.98|        0.0|           1.0|    10.0|  12561.0|      89.0|     20.0|         2.0|                      0|                  0|                   0|                 0|                  1|                               0|                                  0|                           1|          0|                  0|                         0|                  0|                       0|            0|                     0|              0|             0|            1|                       0|                     0|               0|              0|       0|       1|(38,[0,1,2,3,4,6,...|\n",
            "|   1000.0|      24.73|    5|         4|   13000.0|          1| 15.6|        0.0|           1.0|     4.0|    546.0|      54.6|      5.0|         2.0|                      0|                  0|                   0|                 0|                  1|                               0|                                  1|                           0|          0|                  0|                         1|                  0|                       0|            0|                     0|              0|             0|            0|                       0|                     0|               0|              0|       0|       1|(38,[0,1,2,3,4,5,...|\n",
            "|   1000.0|      30.16|    1|         1|   50400.0|          1| 3.81|        0.0|           1.0|     6.0|   1440.0|       7.1|     14.0|         2.0|                      0|                  0|                   0|                 0|                  1|                               1|                                  0|                           0|          0|                  0|                         0|                  0|                       0|            0|                     0|              0|             0|            1|                       0|                     0|               0|              0|       1|       0|(38,[0,1,2,3,4,5,...|\n",
            "|   1000.0|      30.16|    1|        10|   80400.0|          1|13.51|        0.0|           0.0|     6.0|  32413.0|      65.0|     18.0|         2.0|                      1|                  0|                   0|                 0|                  0|                               1|                                  0|                           0|          0|                  0|                         0|                  0|                       0|            0|                     0|              1|             0|            0|                       0|                     0|               0|              0|       1|       0|(38,[0,1,2,3,4,5,...|\n",
            "|   1000.0|      30.16|    1|        10|  135600.0|          1|11.54|        0.0|           0.0|     8.0|      0.0|       0.0|     27.0|         2.0|                      1|                  0|                   0|                 0|                  0|                               1|                                  0|                           0|          0|                  0|                         0|                  0|                       0|            0|                     1|              0|             0|            0|                       0|                     0|               0|              0|       1|       0|(38,[0,1,2,3,4,5,...|\n",
            "|   1000.0|      30.71|    1|         4|   30000.0|          0| 24.0|        0.0|           0.0|     6.0|    532.0|      26.6|     13.0|         2.0|                      1|                  0|                   0|                 0|                  0|                               0|                                  0|                           1|          0|                  0|                         1|                  0|                       0|            0|                     0|              0|             0|            0|                       0|                     0|               0|              0|       1|       0|(38,[0,1,2,3,4,6,...|\n",
            "|   1000.0|      30.71|    1|        10|   38400.0|          1| 7.03|        0.0|           1.0|    14.0|   5500.0|      22.7|     56.0|         2.0|                      0|                  0|                   0|                 1|                  0|                               0|                                  1|                           0|          0|                  0|                         1|                  0|                       0|            0|                     0|              0|             0|            0|                       0|                     0|               0|              0|       1|       0|(38,[0,1,2,3,4,5,...|\n",
            "|   1000.0|      30.88|    1|         0|   41000.0|          1| 8.08|        0.0|           0.0|     6.0|      0.0|       0.0|     12.0|         2.0|                      0|                  0|                   0|                 1|                  0|                               1|                                  0|                           0|          1|                  0|                         0|                  0|                       0|            0|                     0|              0|             0|            0|                       0|                     0|               0|              0|       1|       0|(38,[0,1,2,4,5,6,...|\n",
            "|   1000.0|      31.01|    1|         0|   33000.0|          1|11.89|        0.0|           1.0|     6.0|    813.0|      81.3|     17.0|         2.0|                      0|                  0|                   0|                 0|                  1|                               0|                                  1|                           0|          0|                  0|                         0|                  0|                       0|            0|                     1|              0|             0|            0|                       0|                     0|               0|              0|       1|       0|(38,[0,1,2,4,5,6,...|\n",
            "|   1000.0|      31.01|    1|         0|   48000.0|          1|10.22|        0.0|           0.0|     9.0|   3610.0|      27.1|     33.0|         2.0|                      0|                  0|                   0|                 0|                  1|                               1|                                  0|                           0|          0|                  0|                         1|                  0|                       0|            0|                     0|              0|             0|            0|                       0|                     0|               0|              0|       1|       0|(38,[0,1,2,4,5,6,...|\n",
            "|   1000.0|      31.01|    1|         0|   69000.0|          1| 5.93|        0.0|           1.0|     8.0|   5905.0|      34.7|     29.0|         2.0|                      0|                  0|                   0|                 0|                  1|                               0|                                  1|                           0|          0|                  0|                         0|                  0|                       0|            0|                     1|              0|             0|            0|                       0|                     0|               0|              0|       1|       0|(38,[0,1,2,4,5,6,...|\n",
            "|   1000.0|      31.01|    1|         1|   17000.0|          1| 5.44|        0.0|           1.0|     4.0|   2082.0|      11.1|      4.0|         2.0|                      0|                  0|                   0|                 0|                  1|                               1|                                  0|                           0|          0|                  0|                         0|                  0|                       0|            0|                     0|              0|             0|            1|                       0|                     0|               0|              0|       1|       0|(38,[0,1,2,3,4,5,...|\n",
            "|   1000.0|      31.01|    1|        10|   15600.0|          1|26.85|        0.0|           2.0|     9.0|   2060.0|      54.2|     17.0|         2.0|                      0|                  0|                   0|                 1|                  0|                               1|                                  0|                           0|          0|                  0|                         0|                  0|                       0|            0|                     1|              0|             0|            0|                       0|                     0|               0|              0|       1|       0|(38,[0,1,2,3,4,5,...|\n",
            "|   1000.0|      31.11|    1|         2|   39996.0|          1|10.92|        0.0|           0.0|     9.0|   4981.0|      87.4|     12.0|         2.0|                      0|                  0|                   0|                 0|                  1|                               1|                                  0|                           0|          0|                  0|                         0|                  0|                       0|            0|                     0|              0|             0|            1|                       0|                     0|               0|              0|       1|       0|(38,[0,1,2,3,4,5,...|\n",
            "+---------+-----------+-----+----------+----------+-----------+-----+-----------+--------------+--------+---------+----------+---------+------------+-----------------------+-------------------+--------------------+------------------+-------------------+--------------------------------+-----------------------------------+----------------------------+-----------+-------------------+--------------------------+-------------------+------------------------+-------------+----------------------+---------------+--------------+-------------+------------------------+----------------------+----------------+---------------+--------+--------+--------------------+\n",
            "only showing top 20 rows\n",
            "\n"
          ]
        }
      ]
    },
    {
      "cell_type": "code",
      "source": [
        "model =  lr.fit(trainingData)\n",
        "\n",
        "predictions = model.transform(testData)"
      ],
      "metadata": {
        "id": "ynhC0tcSxkk5"
      },
      "execution_count": 38,
      "outputs": []
    },
    {
      "cell_type": "code",
      "source": [
        "from pyspark.ml.evaluation import BinaryClassificationEvaluator\n",
        "evaluator = BinaryClassificationEvaluator(labelCol=\"loan_status\")\n",
        "print(\"Test Area Under ROC: \" + str(evaluator.evaluate(predictions)))"
      ],
      "metadata": {
        "colab": {
          "base_uri": "https://localhost:8080/"
        },
        "id": "MM4vMyWozu0O",
        "outputId": "63960798-e36a-4c1d-d241-9b793dc9fd05"
      },
      "execution_count": 39,
      "outputs": [
        {
          "output_type": "stream",
          "name": "stdout",
          "text": [
            "Test Area Under ROC: 0.9999992393697165\n"
          ]
        }
      ]
    },
    {
      "cell_type": "code",
      "source": [
        "# Train/Test split based on the hardcoded seed value (70 : 30)\n",
        "(trainingSetDF, testSetDF) = df_spark.randomSplit([0.7, 0.3], 1395)\n",
        "\n",
        "trainingSetDF.cache()\n",
        "testSetDF.cache()"
      ],
      "metadata": {
        "colab": {
          "base_uri": "https://localhost:8080/"
        },
        "id": "lQx4tDAw0LOq",
        "outputId": "64ee9acd-b979-461d-95ee-2cad8fa6424e"
      },
      "execution_count": 40,
      "outputs": [
        {
          "output_type": "execute_result",
          "data": {
            "text/plain": [
              "DataFrame[loan_amnt: double, installment: double, grade: bigint, emp_length: bigint, annual_inc: double, loan_status: bigint, dti: double, delinq_2yrs: double, inq_last_6mths: double, open_acc: double, revol_bal: double, revol_util: double, total_acc: double, fico_average: double, home_ownership_MORTGAGE: bigint, home_ownership_NONE: bigint, home_ownership_OTHER: bigint, home_ownership_OWN: bigint, home_ownership_RENT: bigint, verification_status_Not Verified: bigint, verification_status_Source Verified: bigint, verification_status_Verified: bigint, purpose_car: bigint, purpose_credit_card: bigint, purpose_debt_consolidation: bigint, purpose_educational: bigint, purpose_home_improvement: bigint, purpose_house: bigint, purpose_major_purchase: bigint, purpose_medical: bigint, purpose_moving: bigint, purpose_other: bigint, purpose_renewable_energy: bigint, purpose_small_business: bigint, purpose_vacation: bigint, purpose_wedding: bigint, term_ 36: bigint, term_ 60: bigint, features: vector]"
            ]
          },
          "metadata": {},
          "execution_count": 40
        }
      ]
    },
    {
      "cell_type": "code",
      "source": [
        "lr_classifier = LogisticRegression(labelCol=\"loan_status\", featuresCol=\"features\", maxIter=3)\n",
        "\n",
        "# Train model with Training Data\n",
        "lrModel = lr_classifier.fit(trainingSetDF)"
      ],
      "metadata": {
        "id": "1YJ29jQj0lEI"
      },
      "execution_count": 41,
      "outputs": []
    },
    {
      "cell_type": "code",
      "source": [
        "# Make predictions on train data using the transform() method.\n",
        "# LogisticRegression.transform() will only use the 'features' column.\n",
        "predictions = lrModel.transform(trainingSetDF)"
      ],
      "metadata": {
        "id": "6m6bf8_h1s63"
      },
      "execution_count": 45,
      "outputs": []
    },
    {
      "cell_type": "code",
      "source": [
        "# Evaluate model\n",
        "evaluator = BinaryClassificationEvaluator( labelCol=\"loan_status\")\n",
        "lr_accuracy = evaluator.evaluate(predictions)\n",
        "\n",
        "print(lr_accuracy)"
      ],
      "metadata": {
        "colab": {
          "base_uri": "https://localhost:8080/"
        },
        "id": "woWAIkcM193Q",
        "outputId": "a3503839-66fc-4ce1-f950-a4e64faf82d2"
      },
      "execution_count": 46,
      "outputs": [
        {
          "output_type": "stream",
          "name": "stdout",
          "text": [
            "0.9999996061108308\n"
          ]
        }
      ]
    },
    {
      "cell_type": "code",
      "source": [],
      "metadata": {
        "id": "w87nvhn-2yN1"
      },
      "execution_count": null,
      "outputs": []
    },
    {
      "cell_type": "code",
      "source": [
        "# Make predictions on test data using the transform() method.\n",
        "# LogisticRegression.transform() will only use the 'features' column.\n",
        "predictions = lrModel.transform(testSetDF)"
      ],
      "metadata": {
        "id": "cIRiPvfp1Lrc"
      },
      "execution_count": 42,
      "outputs": []
    },
    {
      "cell_type": "code",
      "source": [
        "# Evaluate model\n",
        "evaluator = BinaryClassificationEvaluator( labelCol=\"loan_status\")\n",
        "lr_accuracy = evaluator.evaluate(predictions)\n",
        "\n",
        "print(lr_accuracy)"
      ],
      "metadata": {
        "colab": {
          "base_uri": "https://localhost:8080/"
        },
        "id": "t8nUiXlx1WEp",
        "outputId": "0af53a8b-3360-41e4-8e89-c55d229b578b"
      },
      "execution_count": 44,
      "outputs": [
        {
          "output_type": "stream",
          "name": "stdout",
          "text": [
            "0.9999992276607136\n"
          ]
        }
      ]
    },
    {
      "cell_type": "code",
      "source": [],
      "metadata": {
        "id": "sRkaOVL_1oNE"
      },
      "execution_count": null,
      "outputs": []
    },
    {
      "cell_type": "code",
      "source": [
        "print(\"**** Running NaiveBayes Classifier with best parameter found using ML pipeline **** \")\n",
        "from pyspark.ml.classification import NaiveBayes\n",
        "from pyspark.ml.evaluation import MulticlassClassificationEvaluator\n",
        "# Create initial NaiveBayes model\n",
        "nb_classifier = NaiveBayes(labelCol=\"loan_status\", featuresCol=\"features\", smoothing=50)\n",
        "#nb_classifier = NaiveBayes(labelCol=\"label\", featuresCol=\"pcaFeatures\", smoothing=50, weightCol=\"weightColumn\" )\n",
        "\n",
        "# Train model with Training Data\n",
        "nbModel = nb_classifier.fit(trainingSetDF)\n",
        "\n",
        "# Make predictions on test data using the transform() method.\n",
        "# NaiveBayes.transform() will only use the 'features' column.\n",
        "predictions = nbModel.transform(testSetDF)\n",
        "predictions1 = nbModel.transform(trainingSetDF)\n",
        "# Evaluate model\n",
        "evaluator = MulticlassClassificationEvaluator( labelCol=\"loan_status\", predictionCol=\"prediction\", metricName=\"accuracy\")\n",
        "nb_accuracy = evaluator.evaluate(predictions)\n",
        "nb_accuracy1 = evaluator.evaluate(predictions1)\n",
        "print(nb_accuracy)\n",
        "print(nb_accuracy1)"
      ],
      "metadata": {
        "colab": {
          "base_uri": "https://localhost:8080/"
        },
        "id": "XhJft95Q2znn",
        "outputId": "7375ddb8-f680-4846-c96f-10f3a57a0800"
      },
      "execution_count": 55,
      "outputs": [
        {
          "output_type": "stream",
          "name": "stdout",
          "text": [
            "**** Running NaiveBayes Classifier with best parameter found using ML pipeline **** \n",
            "0.5678085820236624\n",
            "0.5635284898690249\n"
          ]
        }
      ]
    },
    {
      "cell_type": "code",
      "source": [],
      "metadata": {
        "id": "WQf5ze2Q3Vge"
      },
      "execution_count": null,
      "outputs": []
    },
    {
      "cell_type": "code",
      "source": [
        "# Create initial Random Forest Classifier model\n",
        "from pyspark.mllib.tree import RandomForest, RandomForestModel\n",
        "from pyspark.ml.classification import GBTClassifier\n",
        "from pyspark.ml.classification import RandomForestClassifier\n",
        "\n",
        "print(\"**** Running Random Forest Classifier with best parameter found using ML pipeline **** \")\n",
        "rf_classifier = RandomForestClassifier( labelCol=\"loan_status\",impurity=\"gini\", maxDepth=12, numTrees=10, featureSubsetStrategy=\"auto\", seed=1395)\n",
        "\n",
        "# Train model with Training Data\n",
        "rf_model = rf_classifier.fit(trainingSetDF)\n",
        "\n",
        "# Print the Forest tree rules. \n",
        "#rf_model.toDebugString\n",
        "\n",
        "# Make predictions on test data using the transform() method.\n",
        "# RandomForest.transform() will only use the 'features' column.\n",
        "predictions = rf_model.transform(testSetDF)\n",
        "predictions1 = rf_model.transform(trainingSetDF)\n",
        "#predictions.show(5)\n",
        "\n",
        "evaluator = BinaryClassificationEvaluator( labelCol = \"loan_status\" )\n",
        "rf_accuracy = evaluator.evaluate(predictions)\n",
        "rf_accuracy1 = evaluator.evaluate(predictions1)\n",
        "print(\"accuracy - \", rf_accuracy)\n",
        "print(\"accuracy - \", rf_accuracy1)"
      ],
      "metadata": {
        "colab": {
          "base_uri": "https://localhost:8080/"
        },
        "id": "NfgdkcN53VvR",
        "outputId": "03edd21e-10f0-4815-cd94-3cecd2f66f91"
      },
      "execution_count": 54,
      "outputs": [
        {
          "output_type": "stream",
          "name": "stdout",
          "text": [
            "**** Running Random Forest Classifier with best parameter found using ML pipeline **** \n",
            "accuracy -  1.0\n",
            "accuracy -  1.0\n"
          ]
        }
      ]
    }
  ]
}